{
  "nbformat": 4,
  "nbformat_minor": 0,
  "metadata": {
    "colab": {
      "name": "ADM2019_A2_s2308255_s2_s3_code.ipynb",
      "provenance": [],
      "collapsed_sections": []
    },
    "kernelspec": {
      "name": "python3",
      "display_name": "Python 3"
    }
  },
  "cells": [
    {
      "cell_type": "markdown",
      "metadata": {
        "colab_type": "text",
        "id": "Ysi7m4vvxpxk"
      },
      "source": [
        "# Assignment 2: Description\n",
        "\n",
        "In this assignment, you will experiment with the NYC Cab dataset from 2016. This dataset provides information (e.g., pickup/dropoff time, # of passengers, trip distance, fare) about cab trips done in New York City during 2016. You can learn more about the dataset clicking [here!](https://www1.nyc.gov/site/tlc/about/tlc-trip-record-data.page)\n",
        "\n",
        "You will load this dataset into pandas, sqlite, and duckdb. You will compare the performance of multiple data-science like queries, including performing a fare estimation (i.e., predicting how much a ride will cost depending on distance) using machine learning.\n",
        "\n",
        "In the first section you will implement the loader in duckdb **[5 points].**\n",
        "\n",
        "The second section has two data-science like queries, the implementation in pandas is already given, and you should use it as a logical/correctness reference to write the queries for sqlite and duckdb, remember to compare the performance of the three different systems **[25 points]**.\n",
        "\n",
        "Finally, in the third section you will implement a simple machine learning algorithm in duckdb to predict fare costs. A full implementation of pandas is given and a partial of sqlite. Again, use them as a logical/correctness reference and compare the performance of the three different systems. **[40 points]**\n",
        "\n",
        "Remember to submit your notebook with the answers to all sections as well as a PDF document (max two papes) listing all experienced execution times and reasoning about the performance difference in these systems."
      ]
    },
    {
      "cell_type": "markdown",
      "metadata": {
        "colab_type": "text",
        "id": "x4UIW8GUQaqt"
      },
      "source": [
        "# **SETUP**"
      ]
    },
    {
      "cell_type": "markdown",
      "metadata": {
        "colab_type": "text",
        "id": "XXvRwAVPGtiX"
      },
      "source": [
        "First we need to install duckdb."
      ]
    },
    {
      "cell_type": "code",
      "metadata": {
        "colab_type": "code",
        "id": "IFC0Acb9Gu8W",
        "outputId": "a46667bb-9eb1-44e0-9ecc-bc26b7ccdddc",
        "colab": {
          "base_uri": "https://localhost:8080/",
          "height": 138
        }
      },
      "source": [
        "!pip install duckdb"
      ],
      "execution_count": 0,
      "outputs": [
        {
          "output_type": "stream",
          "text": [
            "Requirement already satisfied: duckdb in /usr/local/lib/python3.6/dist-packages (0.1.1)\n",
            "Requirement already satisfied: pandas>=0.23 in /usr/local/lib/python3.6/dist-packages (from duckdb) (0.25.3)\n",
            "Requirement already satisfied: numpy>=1.14 in /usr/local/lib/python3.6/dist-packages (from duckdb) (1.17.4)\n",
            "Requirement already satisfied: python-dateutil>=2.6.1 in /usr/local/lib/python3.6/dist-packages (from pandas>=0.23->duckdb) (2.6.1)\n",
            "Requirement already satisfied: pytz>=2017.2 in /usr/local/lib/python3.6/dist-packages (from pandas>=0.23->duckdb) (2018.9)\n",
            "Requirement already satisfied: six>=1.5 in /usr/local/lib/python3.6/dist-packages (from python-dateutil>=2.6.1->pandas>=0.23->duckdb) (1.12.0)\n",
            "^C\n"
          ],
          "name": "stdout"
        }
      ]
    },
    {
      "cell_type": "markdown",
      "metadata": {
        "colab_type": "text",
        "id": "XDQF0N7HJIQ_"
      },
      "source": [
        "Now we download the NYC Cab dataset and decompress it. \n",
        "\n",
        "Since SQLite's python client doesn't provide a built-in copy into function, we also provide a downloadable version of a loaded SQLite instance."
      ]
    },
    {
      "cell_type": "code",
      "metadata": {
        "colab_type": "code",
        "id": "9RXn51F_JMpn",
        "outputId": "08048ac1-5761-4f92-fc6f-0da70f3ef8f7",
        "colab": {
          "base_uri": "https://localhost:8080/",
          "height": 69
        }
      },
      "source": [
        "import urllib\n",
        "import os\n",
        "import zipfile\n",
        "\n",
        "print(\"Downloading dataset\")\n",
        "if not os.path.isfile(\"yellow_tripdata_2016-01.csv\"):\n",
        "\turllib.request.urlretrieve(\"https://s3.amazonaws.com/nyc-tlc/trip+data/yellow_tripdata_2016-01.csv\", \"yellow_tripdata_2016-01.csv\")\n",
        "\n",
        "print(\"Downloading SQLite yellow_tripdata\")\n",
        "if not os.path.isfile(\"yellow_tripdate_sqlite.db.zip\"):\n",
        "\turllib.request.urlretrieve(\"https://zenodo.org/record/3532986/files/yellow_tripdate_sqlite.db.zip?download=1\", \"yellow_tripdate_sqlite.db.zip\")\n",
        "\n",
        "\n",
        "print(\"Decompressing files\")\n",
        "if not os.path.isfile(\"yellow_tripdate_sqlite.db\"):\n",
        "\twith zipfile.ZipFile(\"yellow_tripdate_sqlite.db.zip\",\"r\") as zip_ref:\n",
        "\t\tzip_ref.extractall(\"./\")\n"
      ],
      "execution_count": 0,
      "outputs": [
        {
          "output_type": "stream",
          "text": [
            "Downloading dataset\n",
            "Downloading SQLite yellow_tripdata\n",
            "Decompressing files\n"
          ],
          "name": "stdout"
        }
      ]
    },
    {
      "cell_type": "markdown",
      "metadata": {
        "colab_type": "text",
        "id": "ryMJZSckLmqG"
      },
      "source": [
        "# **Loading The Data** [5pts]"
      ]
    },
    {
      "cell_type": "markdown",
      "metadata": {
        "colab_type": "text",
        "id": "EJSvVxkOL6af"
      },
      "source": [
        "In this section our goal is to write code to load the data in duckdb. First we start with importing the necessary libraries.\n",
        "\n",
        "\n"
      ]
    },
    {
      "cell_type": "code",
      "metadata": {
        "id": "nwCclv0zwV2q",
        "colab_type": "code",
        "colab": {}
      },
      "source": [
        "# Importin necessary libraries\n",
        "import sqlite3 \n",
        "import pandas\n",
        "import duckdb\n",
        "import time\n",
        "import os\n"
      ],
      "execution_count": 0,
      "outputs": []
    },
    {
      "cell_type": "markdown",
      "metadata": {
        "id": "9FPSM6FGwoUP",
        "colab_type": "text"
      },
      "source": [
        "Next we import the data for the different database types."
      ]
    },
    {
      "cell_type": "code",
      "metadata": {
        "colab_type": "code",
        "id": "nBPmYEMLNQ63",
        "colab": {}
      },
      "source": [
        "# Importing data for pandas\n",
        "yellow_tripdata_pandas = pandas.read_csv('yellow_tripdata_2016-01.csv', low_memory=True)"
      ],
      "execution_count": 0,
      "outputs": []
    },
    {
      "cell_type": "code",
      "metadata": {
        "id": "kW9n0acjYGx6",
        "colab_type": "code",
        "outputId": "710979c3-c400-448c-ed2b-20a674466efd",
        "colab": {
          "base_uri": "https://localhost:8080/",
          "height": 34
        }
      },
      "source": [
        "CREATE_TRIPDATA_TBL_SQL = \"\"\"\n",
        "CREATE TABLE yellow_tripdata_2016_01 (   \n",
        "    VendorID bigint,\n",
        "    tpep_pickup_datetime timestamp,\n",
        "    tpep_dropoff_datetime timestamp,\n",
        "    passenger_count bigint,\n",
        "    trip_distance double,\n",
        "    pickup_longitude double,\n",
        "    pickup_latitude double,\n",
        "    RatecodeID bigint,\n",
        "    store_and_fwd_flag varchar,\n",
        "    dropoff_longitude double,\n",
        "    dropoff_latitude double,\n",
        "    payment_type bigint,\n",
        "    fare_amount double,\n",
        "    extra double,\n",
        "    mta_tax double,\n",
        "    tip_amount double,\n",
        "    tolls_amount double,\n",
        "    improvement_surcharge double,\n",
        "    total_amount double\n",
        ") \n",
        "\"\"\"\n",
        "# Importin data for duckdb\n",
        "if os.path.isfile(\"yellow_tripdata_duck.db\"):\n",
        "  os.system(\"rm yellow_tripdata_duck.db\")\n",
        "db = duckdb.connect('yellow_tripdata_duck.db')\n",
        "duck_cursor = db.cursor()\n",
        "\n",
        "# As SQLite and duckDB have the same syntax, we are able to use the SQL statement.\n",
        "duck_cursor.execute(CREATE_TRIPDATA_TBL_SQL) \n",
        "duck_cursor.execute(\"COPY yellow_tripdata_2016_01 FROM 'yellow_tripdata_2016-01.csv' WITH HEADER\")"
      ],
      "execution_count": 0,
      "outputs": [
        {
          "output_type": "execute_result",
          "data": {
            "text/plain": [
              "<duckdb.Cursor at 0x7f4e04210970>"
            ]
          },
          "metadata": {
            "tags": []
          },
          "execution_count": 14
        }
      ]
    },
    {
      "cell_type": "markdown",
      "metadata": {
        "colab_type": "text",
        "id": "vyDSVNG1TmPi"
      },
      "source": [
        "# **Queries** [25 pts]"
      ]
    },
    {
      "cell_type": "markdown",
      "metadata": {
        "colab_type": "text",
        "id": "W4wqtjzlT30T"
      },
      "source": [
        "**Query Q1 [10 pts]**: Count distinct values for each column.\n",
        "\n",
        "**TIP:** We provide you with the pandas implementation, be sure to use it to check for correctness!\n",
        "\n",
        "In the first query we want to compare the performance of a simple hash-function in our Database Management Systems (DBMSs). To do so, we implement and run a query that counts the distinct values for each column.\n",
        "In general, most systems use hash-based algorithms to find the distinct values in a large set of values (e.g., a database column).\n",
        "Obs: Sort-based algorithm are an alternative by usually slower.\n"
      ]
    },
    {
      "cell_type": "code",
      "metadata": {
        "colab_type": "code",
        "id": "sy7O9XS0T9kJ",
        "outputId": "f223a366-7bc5-4c56-8656-bc0e603b7cf6",
        "colab": {
          "base_uri": "https://localhost:8080/",
          "height": 121
        }
      },
      "source": [
        "import time\n",
        "import sqlite3 \n",
        "\n",
        "#Fill Query Here (The same syntax works for both SQLite and DuckDB)\n",
        "sql_01 = \"\"\" \n",
        "SELECT\n",
        "    COUNT(DISTINCT VendorID), \n",
        "    COUNT(DISTINCT tpep_pickup_datetime), \n",
        "    COUNT(DISTINCT tpep_dropoff_datetime), \n",
        "    COUNT(DISTINCT passenger_count), \n",
        "    COUNT(DISTINCT trip_distance),\n",
        "    COUNT(DISTINCT pickup_longitude), \n",
        "    COUNT(DISTINCT pickup_latitude), \n",
        "    COUNT(DISTINCT RatecodeID), \n",
        "    COUNT(DISTINCT store_and_fwd_flag), \n",
        "    COUNT(DISTINCT dropoff_longitude), \n",
        "    COUNT(DISTINCT dropoff_latitude), \n",
        "    COUNT(DISTINCT payment_type), \n",
        "    COUNT(DISTINCT fare_amount), \n",
        "    COUNT(DISTINCT extra), \n",
        "    COUNT(DISTINCT mta_tax), \n",
        "    COUNT(DISTINCT tip_amount),\n",
        "    COUNT(DISTINCT tolls_amount), \n",
        "    COUNT(DISTINCT improvement_surcharge), \n",
        "    COUNT(DISTINCT total_amount)\n",
        "FROM \n",
        "    yellow_tripdata_2016_01 \n",
        "\"\"\"\n",
        "\n",
        "db_sqlite = sqlite3.connect('yellow_tripdate_sqlite.db') #Connects to a SQLite database instance called voters_sqlite.db\n",
        "sqlite_cursor = db_sqlite.cursor() # Creates a Cursor, that allows us to issue Create Table Stataments\n",
        "\n",
        "#Implement Pandas Query Here\n",
        "def query_01_pandas():\n",
        "  print(yellow_tripdata_pandas['VendorID'].nunique(),yellow_tripdata_pandas['tpep_pickup_datetime'].nunique(),\n",
        "          yellow_tripdata_pandas['tpep_dropoff_datetime'].nunique(),yellow_tripdata_pandas['passenger_count'].nunique(),\n",
        "          yellow_tripdata_pandas['trip_distance'].nunique(),yellow_tripdata_pandas['pickup_longitude'].nunique(),\n",
        "          yellow_tripdata_pandas['pickup_latitude'].nunique(),yellow_tripdata_pandas['RatecodeID'].nunique(),\n",
        "          yellow_tripdata_pandas['store_and_fwd_flag'].nunique(),yellow_tripdata_pandas['dropoff_longitude'].nunique(),\n",
        "          yellow_tripdata_pandas['dropoff_latitude'].nunique(),yellow_tripdata_pandas['payment_type'].nunique(),\n",
        "          yellow_tripdata_pandas['fare_amount'].nunique(),yellow_tripdata_pandas['extra'].nunique(),\n",
        "          yellow_tripdata_pandas['mta_tax'].nunique(),yellow_tripdata_pandas['tip_amount'].nunique(),\n",
        "          yellow_tripdata_pandas['tolls_amount'].nunique(),yellow_tripdata_pandas['improvement_surcharge'].nunique(),\n",
        "          yellow_tripdata_pandas['total_amount'].nunique())\n",
        "\n",
        "def query_01_sqlite():\n",
        "\tsqlite_cursor.execute(sql_01)\n",
        "\tresult = sqlite_cursor.fetchone()\n",
        "\tprint(result)\n",
        "\n",
        "def query_01_duckdb():\n",
        "\tduck_cursor.execute(sql_01)\n",
        "\tresult = duck_cursor.fetchone()\n",
        "\tprint(result)\n",
        "\n",
        " \n",
        "start = time.time()\n",
        "query_01_pandas()\n",
        "end = time.time()\n",
        "print(\"Query in Pandas : \" +str(end - start))\n",
        "\n",
        "start = time.time()\n",
        "query_01_sqlite()\n",
        "end = time.time()\n",
        "print(\"Query in SQLite : \" +str(end - start))\n",
        "\n",
        "start = time.time()\n",
        "query_01_duckdb()\n",
        "end = time.time()\n",
        "print(\"Query in DuckDB : \" +str(end - start))"
      ],
      "execution_count": 0,
      "outputs": [
        {
          "output_type": "stream",
          "text": [
            "2 2368616 2372528 10 4513 35075 62184 7 2 53813 87358 5 1878 35 16 3551 940 7 11166\n",
            "Query in Pandas : 9.207979679107666\n",
            "(2, 2368616, 2372528, 10, 4513, 35075, 62184, 7, 2, 53813, 87358, 5, 1878, 35, 16, 3551, 940, 7, 11166)\n",
            "Query in SQLite : 78.04473280906677\n",
            "[2, 2368616, 2372528, 10, 4513, 35075, 62184, 7, 2, 53813, 87358, 5, 1878, 35, 16, 3551, 940, 7, 11166]\n",
            "Query in DuckDB : 6.603049993515015\n"
          ],
          "name": "stdout"
        }
      ]
    },
    {
      "cell_type": "markdown",
      "metadata": {
        "colab_type": "text",
        "id": "AnE6A2olT954"
      },
      "source": [
        "\n",
        "\n",
        "In our second query, we want to compare the performance of the aggregation/grouping functions.\n",
        "**Query Q2 [15 pts]**: What's the avg/max/min frequency of events grouped by day and hour? (Recall that each record in the data set represents one event.)\n",
        "\n",
        "**TIP_1** : Start by writing a subquery that groups the data by Day/Hour and counts all events.\n",
        "\n",
        "For duckdb:\n",
        "EXTRACT(DOY FROM tpep_pickup_datetime), EXTRACT(HOUR FROM tpep_pickup_datetime)\n",
        "\n",
        "For Sqlite:\n",
        "strftime('%j', tpep_pickup_datetime), strftime('%H', tpep_pickup_datetime) for\n",
        "\n",
        "**TIP_2**: After writing the subquery, get the avg, min and max values of it\n",
        "\n",
        "For your convenience, we already provide the Pandas implementation, remember to use it for correctness/logic purposes."
      ]
    },
    {
      "cell_type": "code",
      "metadata": {
        "colab_type": "code",
        "id": "oypnNM8qZel2",
        "outputId": "0d8cfc0d-cc44-45af-e418-ad9c00a56ed1",
        "colab": {
          "base_uri": "https://localhost:8080/",
          "height": 294
        }
      },
      "source": [
        "#Implement SQLite query\n",
        "sql_02_sqlite = \"\"\" \n",
        "SELECT\n",
        "    MIN(count_sub),\n",
        "    AVG(count_sub),\n",
        "    MAX(count_sub)\n",
        "FROM\n",
        "(\n",
        "    SELECT \n",
        "        COUNT(*) AS count_sub\n",
        "    FROM yellow_tripdata_2016_01\n",
        "    GROUP BY  \n",
        "        strftime('%j', tpep_pickup_datetime),\n",
        "        strftime('%H', tpep_pickup_datetime)\n",
        ") AS sub\n",
        "\"\"\"\n",
        "\n",
        "#Implement DuckDB query\n",
        "sql_02_duckdb = \"\"\" \n",
        "SELECT\n",
        "    MIN(count_sub),\n",
        "    AVG(count_sub),\n",
        "    MAX(count_sub)\n",
        "FROM\n",
        "(\n",
        "    SELECT \n",
        "        COUNT(*) AS count_sub\n",
        "    FROM yellow_tripdata_2016_01\n",
        "    GROUP BY  \n",
        "        EXTRACT(DOY FROM tpep_pickup_datetime),\n",
        "        EXTRACT(HOUR FROM tpep_pickup_datetime)\n",
        ") AS sub\n",
        "\"\"\"\n",
        "\n",
        "def query_02_pandas():\n",
        "\tdf = yellow_tripdata_pandas[[\"VendorID\", \"tpep_pickup_datetime\"]]\n",
        "\tdf['day'] = pandas.to_datetime(df['tpep_pickup_datetime'], format='%Y-%m-%d %H:%M:%S').dt.day\n",
        "\tdf['hour'] = pandas.to_datetime(df['tpep_pickup_datetime'], format='%Y-%m-%d %H:%M:%S').dt.hour\n",
        "\tres = df.groupby(['day', 'hour']).agg({'VendorID': 'count'})\n",
        "\tprint(res[\"VendorID\"].min(),res[\"VendorID\"].mean(),res[\"VendorID\"].max())\n",
        "\n",
        "def query_02_sqlite():\n",
        "\tsqlite_cursor.execute(sql_02_sqlite)\n",
        "\tresult = sqlite_cursor.fetchall()\n",
        "\tprint(result)\n",
        "\n",
        "def query_02_duckdb():\n",
        "\tduck_cursor.execute(sql_02_duckdb)\n",
        "\tresult = duck_cursor.fetchall()\n",
        "\tprint(result)\n",
        "\n",
        " \n",
        "start = time.time()\n",
        "query_02_pandas()\n",
        "end = time.time()\n",
        "print(\"Query in Pandas : \" +str(end - start))\n",
        "\n",
        "start = time.time()\n",
        "query_02_sqlite()\n",
        "end = time.time()\n",
        "print(\"Query in SQLite : \" +str(end - start))\n",
        "\n",
        "start = time.time()\n",
        "query_02_duckdb()\n",
        "end = time.time()\n",
        "print(\"Query in DuckDB : \" +str(end - start))"
      ],
      "execution_count": 0,
      "outputs": [
        {
          "output_type": "stream",
          "text": [
            "/usr/local/lib/python3.6/dist-packages/ipykernel_launcher.py:36: SettingWithCopyWarning: \n",
            "A value is trying to be set on a copy of a slice from a DataFrame.\n",
            "Try using .loc[row_indexer,col_indexer] = value instead\n",
            "\n",
            "See the caveats in the documentation: http://pandas.pydata.org/pandas-docs/stable/user_guide/indexing.html#returning-a-view-versus-a-copy\n",
            "/usr/local/lib/python3.6/dist-packages/ipykernel_launcher.py:37: SettingWithCopyWarning: \n",
            "A value is trying to be set on a copy of a slice from a DataFrame.\n",
            "Try using .loc[row_indexer,col_indexer] = value instead\n",
            "\n",
            "See the caveats in the documentation: http://pandas.pydata.org/pandas-docs/stable/user_guide/indexing.html#returning-a-view-versus-a-copy\n"
          ],
          "name": "stderr"
        },
        {
          "output_type": "stream",
          "text": [
            "8 14659.755376344086 28511\n",
            "Query in Pandas : 16.55124020576477\n",
            "[(8, 14659.755376344086, 28511)]\n",
            "Query in SQLite : 62.13253116607666\n",
            "[[8, 14659.755376344086, 28511]]\n",
            "Query in DuckDB : 0.6873981952667236\n"
          ],
          "name": "stdout"
        }
      ]
    },
    {
      "cell_type": "markdown",
      "metadata": {
        "colab_type": "text",
        "id": "CqqmSeKvIN2L"
      },
      "source": [
        "# **Machine Learning : Fare Estimation** [40 pts]"
      ]
    },
    {
      "cell_type": "markdown",
      "metadata": {
        "colab_type": "text",
        "id": "9-AA_rgyIYpI"
      },
      "source": [
        "Here you will need to use the data to do the most basic form of machine learning: [linear regression](https://en.wikipedia.org/wiki/Ordinary_least_squares#Simple_linear_regression_model). You can train a simple estimator that takes the trip distance and estimates the price. For this exercise we provide the linear regression using pandas. Your goal is to mimic the pandas computation in both SQLite and DuckDB, and compare the computation time until the calculation of linear regression's parameters alpha and gama **(Which must be the same in all three systems, take this into consideration to check if your answer is correct)**."
      ]
    },
    {
      "cell_type": "code",
      "metadata": {
        "colab_type": "code",
        "id": "AR6hF_QgI3Y4",
        "outputId": "07a0438e-08eb-4a60-b03f-6e4b337d63ca",
        "colab": {
          "base_uri": "https://localhost:8080/",
          "height": 297
        }
      },
      "source": [
        "cov_xy = (yellow_tripdata_pandas[\"trip_distance\"] * yellow_tripdata_pandas[\"fare_amount\"]).sum() - (\n",
        "    yellow_tripdata_pandas[\"trip_distance\"].sum() * yellow_tripdata_pandas[\"fare_amount\"].sum()\n",
        ") / len(yellow_tripdata_pandas)\n",
        "var_xy = (yellow_tripdata_pandas[\"trip_distance\"] ** 2).sum() - yellow_tripdata_pandas[\"trip_distance\"].sum() ** 2 / len(yellow_tripdata_pandas)\n",
        "beta = cov_xy / var_xy\n",
        "alpha = yellow_tripdata_pandas[\"fare_amount\"].mean() - beta * yellow_tripdata_pandas[\"trip_distance\"].mean()\n",
        "\n",
        "alpha\n",
        "# 12.486907739140417\n",
        "beta\n",
        "# 4.6752084884145456e-06\n",
        "\n",
        "# Select some sample data and see how well we can fit the price\n",
        "sample = yellow_tripdata_pandas.sample(10000)\n",
        "sample[\"price\"] = alpha + beta * sample[\"trip_distance\"]\n",
        "ax = sample.plot.scatter(x=\"trip_distance\", y=\"fare_amount\")\n",
        "sample.plot.line(x=\"trip_distance\", y=\"price\", ax=ax, color=\"red\")"
      ],
      "execution_count": 0,
      "outputs": [
        {
          "output_type": "execute_result",
          "data": {
            "text/plain": [
              "<matplotlib.axes._subplots.AxesSubplot at 0x7fa67a1e65c0>"
            ]
          },
          "metadata": {
            "tags": []
          },
          "execution_count": 11
        },
        {
          "output_type": "display_data",
          "data": {
            "image/png": "[encoded data removed]",
            "text/plain": [
              "<Figure size 432x288 with 1 Axes>"
            ]
          },
          "metadata": {
            "tags": []
          }
        }
      ]
    },
    {
      "cell_type": "markdown",
      "metadata": {
        "colab_type": "text",
        "id": "MSNgeIoyJeBN"
      },
      "source": [
        "As you can tell from the above image, as with any real life dataset, the New York City trip dataset also contains outliers that we need to clean to get a good regression. Hence we need to get rid of the noisy data that disturbs our basic regression example.\n",
        "\n",
        "**Note**: The pandas program above is merely to show the dirty data/outliers, consider the following one for the rest of this section."
      ]
    },
    {
      "cell_type": "code",
      "metadata": {
        "colab_type": "code",
        "id": "6SFDISlWJ01R",
        "outputId": "da1092e2-fe5d-43d0-80b2-517e0f553a2c",
        "colab": {
          "base_uri": "https://localhost:8080/",
          "height": 348
        }
      },
      "source": [
        "start = time.time()\n",
        "cap_fare = yellow_tripdata_pandas[\"fare_amount\"].mean() + 3 * yellow_tripdata_pandas[\"fare_amount\"].std()\n",
        "cap_distance = yellow_tripdata_pandas[\"trip_distance\"].mean() + 3 * yellow_tripdata_pandas[\"trip_distance\"].std()\n",
        "df_filtered = yellow_tripdata_pandas.query(\n",
        "    f\"trip_distance > 0 and trip_distance < {cap_distance} and fare_amount > 0 and fare_amount < {cap_fare}\"\n",
        ")\n",
        "\n",
        "# Train on the filtered data\n",
        "cov_xy = (df_filtered[\"trip_distance\"] * df_filtered[\"fare_amount\"]).sum() - (\n",
        "    df_filtered[\"trip_distance\"].sum() * df_filtered[\"fare_amount\"].sum()\n",
        ") / len(df_filtered)\n",
        "var_xy = (df_filtered[\"trip_distance\"] ** 2).sum() - df_filtered[\n",
        "    \"trip_distance\"\n",
        "].sum() ** 2 / len(df_filtered)\n",
        "beta = cov_xy / var_xy\n",
        "alpha = df_filtered[\"fare_amount\"].mean() - beta * df_filtered[\"trip_distance\"].mean()\n",
        "\n",
        "alpha\n",
        "# 4.651606864471554\n",
        "beta\n",
        "# 2.661444816924383\n",
        "end = time.time()\n",
        "print(\"Alpha: \" + str(alpha))\n",
        "print(\"Beta: \" + str(beta))\n",
        "print(\"ML Regression in Pandas: \" +str(end - start))\n",
        "# Plot and check whether it fits better this time\n",
        "sample[\"price\"] = alpha + beta * sample[\"trip_distance\"]\n",
        "ax = sample.plot.scatter(x=\"trip_distance\", y=\"fare_amount\")\n",
        "sample.plot.line(x=\"trip_distance\", y=\"price\", ax=ax, color=\"red\")"
      ],
      "execution_count": 0,
      "outputs": [
        {
          "output_type": "stream",
          "text": [
            "Alpha: 4.651606864470045\n",
            "Beta: 2.661444816924383\n",
            "ML Regression in Pandas: 2.7713353633880615\n"
          ],
          "name": "stdout"
        },
        {
          "output_type": "execute_result",
          "data": {
            "text/plain": [
              "<matplotlib.axes._subplots.AxesSubplot at 0x7fa67cf02048>"
            ]
          },
          "metadata": {
            "tags": []
          },
          "execution_count": 14
        },
        {
          "output_type": "display_data",
          "data": {
            "image/png": "[encoded data removed]",
            "text/plain": [
              "<Figure size 432x288 with 1 Axes>"
            ]
          },
          "metadata": {
            "tags": []
          }
        }
      ]
    },
    {
      "cell_type": "markdown",
      "metadata": {
        "colab_type": "text",
        "id": "g0ZKXzBaKS7v"
      },
      "source": [
        "Now, your task is to perform the same linear regression using both duckdb and sqlite."
      ]
    },
    {
      "cell_type": "markdown",
      "metadata": {
        "colab_type": "text",
        "id": "IBwc6FGCySin"
      },
      "source": [
        "**SQLite**:\n",
        "Since SQLite doesn't have a function to compute the standard deviation and its a bit more complex than doing it in duckdb. We provide you with a solution that should be taken as inspiration for duckdb.\n",
        "Here you only have to implement lines 46 and 49 to generate the samples necessary to plot a sample of the data + linear regression."
      ]
    },
    {
      "cell_type": "code",
      "metadata": {
        "colab_type": "code",
        "id": "shfAO9MpyYMO",
        "outputId": "86879f46-5cb1-4678-c1c9-9164ae0ee379",
        "colab": {
          "base_uri": "https://localhost:8080/",
          "height": 348
        }
      },
      "source": [
        "import math\n",
        "start = time.time()\n",
        "sqlite_cursor.execute(\"\"\"\n",
        "    SELECT \n",
        "        count(*),\n",
        "        sub.avg_fa as avg_fare,\n",
        "        sum((fare_amount - sub.avg_fa) * (fare_amount - sub.avg_fa)) as var_fare,\n",
        "        sub.avg_td as avg_distance,\n",
        "        sum((trip_distance - sub.avg_td) * (trip_distance - sub.avg_td)) as var_distance\n",
        "    FROM \n",
        "        yellow_tripdata_2016_01,\n",
        "        (\n",
        "            SELECT\n",
        "                AVG(fare_amount) as avg_fa,\n",
        "                AVG(trip_distance) as avg_td\n",
        "            FROM yellow_tripdata_2016_01\n",
        "        ) as sub\n",
        "\"\"\")\n",
        "n, avg_fare, var_fare, avg_distance, var_distance = sqlite_cursor.fetchone()\n",
        "max_fare = avg_fare + 3 * math.sqrt(var_fare / (n - 1))\n",
        "max_distance = avg_distance + 3 * math.sqrt(var_distance / (n - 1))\n",
        "max_fare, max_distance\n",
        "\n",
        "sqlite_cursor.execute(f\"\"\"\n",
        "SELECT\n",
        "    (SUM(trip_distance * fare_amount) - SUM(trip_distance) * SUM(fare_amount) / COUNT(*)) /\n",
        "    (SUM(trip_distance * trip_distance) - SUM(trip_distance) * SUM(trip_distance) / COUNT(*)) AS beta,\n",
        "    AVG(fare_amount) AS avg_fare_amount,\n",
        "    AVG(trip_distance) AS avg_trip_distance\n",
        "FROM yellow_tripdata_2016_01\n",
        "WHERE \n",
        "    fare_amount > 0 AND\n",
        "    fare_amount < {max_fare} AND \n",
        "    trip_distance > 0 AND\n",
        "    trip_distance < {max_distance}\n",
        "\"\"\")\n",
        "beta, avg_fare_amount, avg_trip_distance = sqlite_cursor.fetchone()\n",
        "alpha = avg_fare_amount - beta * avg_trip_distance\n",
        "end = time.time()\n",
        "print(\"Alpha: \" + str(alpha))\n",
        "print(\"Beta: \" + str(beta))\n",
        "print(\"ML Regression in SQLite: \" +str(end - start))\n",
        "\n",
        "\n",
        "#Get a uniform random sample (size 1000) of trip_distance and fare_amount for plotting  \n",
        "#TIP : Use ORDER BY RANDOM() and Limit\n",
        "sqlite_cursor.execute(\"\"\"\n",
        "SELECT \n",
        "    trip_distance, \n",
        "    fare_amount\n",
        "FROM\n",
        "    yellow_tripdata_2016_01\n",
        "ORDER BY RANDOM()\n",
        "LIMIT 1000\"\"\")\n",
        "\n",
        "#Get a pandas dataframe from sqlite\n",
        "#TIP : pandas has a function to transform sqlite query results to a dataframe\n",
        "sqlite_sample = sqlite_cursor.fetchall()\n",
        "sqlite_df_sample =  pandas.DataFrame(sqlite_sample)\n",
        "sqlite_df_sample.columns = [\"trip_distance\",\"fare_amount\"]\n",
        "\n",
        "sqlite_df_sample[\"price\"] = alpha + beta * sqlite_df_sample[\"trip_distance\"]\n",
        "ax = sqlite_df_sample.plot.scatter(x=\"trip_distance\", y=\"fare_amount\")\n",
        "sqlite_df_sample.plot.line(x=\"trip_distance\", y=\"price\", ax=ax, color=\"red\")"
      ],
      "execution_count": 0,
      "outputs": [
        {
          "output_type": "stream",
          "text": [
            "Alpha: 4.651606864488173\n",
            "Beta: 2.6614448169181486\n",
            "ML Regression in SQLite: 8.314350366592407\n"
          ],
          "name": "stdout"
        },
        {
          "output_type": "execute_result",
          "data": {
            "text/plain": [
              "<matplotlib.axes._subplots.AxesSubplot at 0x7fa69ae88588>"
            ]
          },
          "metadata": {
            "tags": []
          },
          "execution_count": 19
        },
        {
          "output_type": "display_data",
          "data": {
            "image/png": "[encoded data removed]",
            "text/plain": [
              "<Figure size 432x288 with 1 Axes>"
            ]
          },
          "metadata": {
            "tags": []
          }
        }
      ]
    },
    {
      "cell_type": "markdown",
      "metadata": {
        "colab_type": "text",
        "id": "vmYLsxUIyQEN"
      },
      "source": [
        "**DUCKDB**\n",
        "\n",
        "*TIP: DuckDB has a STDDEV_SAMP function (i.e., function that calculates standard deviation) and thus you can do the whole regression using one query.*\n",
        "\n",
        "**Remember alpha and beta MUST have the same values from the pandas solution above**"
      ]
    },
    {
      "cell_type": "code",
      "metadata": {
        "colab_type": "code",
        "id": "cSvOOki7Lf9W",
        "outputId": "522cd726-f4ff-4ef2-e416-526ba23b1b07",
        "colab": {
          "base_uri": "https://localhost:8080/",
          "height": 348
        }
      },
      "source": [
        "start = time.time()\n",
        "#Implement the regression query\n",
        "duck_regression = \"\"\"\n",
        "SELECT\n",
        "    (SUM(trip_distance * fare_amount) - SUM(trip_distance) * SUM(fare_amount) / COUNT(*)) /\n",
        "    (SUM(trip_distance * trip_distance) - SUM(trip_distance) * SUM(trip_distance) / COUNT(*)) AS beta,\n",
        "    AVG(fare_amount) AS avg_fare_amount,\n",
        "    AVG(trip_distance) AS avg_trip_distance\n",
        "FROM \n",
        "    yellow_tripdata_2016_01,\n",
        "    (\n",
        "        SELECT \n",
        "            AVG(fare_amount) + 3 * STDDEV_SAMP(fare_amount)  AS max_fare,\n",
        "            AVG(trip_distance) + 3 * STDDEV_SAMP(trip_distance) AS max_distance\n",
        "        FROM yellow_tripdata_2016_01\n",
        "    ) AS sub\n",
        "WHERE \n",
        "    fare_amount > 0 AND\n",
        "    fare_amount < sub.max_fare AND \n",
        "    trip_distance > 0 AND\n",
        "    trip_distance < sub.max_distance\n",
        "\"\"\"\n",
        "\n",
        "duck_cursor.execute(duck_regression)\n",
        "#Get the values from beta and alpha from the query (replace ... for code):\n",
        "beta, avg_fare_amount, avg_trip_distance = duck_cursor.fetchone()\n",
        "alpha = avg_fare_amount - beta * avg_trip_distance\n",
        "end = time.time()\n",
        "print(\"Alpha: \" + str(alpha))\n",
        "print(\"Beta: \" + str(beta))\n",
        "print(\"ML Regression in DuckDB: \" +str(end - start))\n",
        "#Get a uniform random sample (size 1000) of trip_distance and fare_amount for plotting  \n",
        "#TIP : Use ORDER BY RANDOM() and Limit\n",
        "duck_cursor.execute(\"\"\"\n",
        "SELECT \n",
        "    trip_distance,\n",
        "    fare_amount\n",
        "FROM\n",
        "    yellow_tripdata_2016_01\n",
        "ORDER BY RANDOM()\n",
        "LIMIT 1000\n",
        "\"\"\"\n",
        ")\n",
        "\n",
        "#Get a pandas dataframe from duckdb\n",
        "#TIP : duckdb python's client has a function to transform query results to a dataframe\n",
        "duck_sample = duck_cursor.fetchall()\n",
        "duck_df_sample = pandas.DataFrame(duck_sample)\n",
        "duck_df_sample.columns = [\"trip_distance\",\"fare_amount\"]\n",
        "\n",
        "duck_df_sample[\"price\"] = alpha + beta * duck_df_sample[\"trip_distance\"]\n",
        "ax = duck_df_sample.plot.scatter(x=\"trip_distance\", y=\"fare_amount\")\n",
        "duck_df_sample.plot.line(x=\"trip_distance\", y=\"price\", ax=ax, color=\"red\")"
      ],
      "execution_count": 0,
      "outputs": [
        {
          "output_type": "stream",
          "text": [
            "Alpha: 4.651606864488173\n",
            "Beta: 2.6614448169181486\n",
            "ML Regression in DuckDB: 1.379394769668579\n"
          ],
          "name": "stdout"
        },
        {
          "output_type": "execute_result",
          "data": {
            "text/plain": [
              "<matplotlib.axes._subplots.AxesSubplot at 0x7fa679fcab38>"
            ]
          },
          "metadata": {
            "tags": []
          },
          "execution_count": 18
        },
        {
          "output_type": "display_data",
          "data": {
            "image/png": "[encoded data removed]",
            "text/plain": [
              "<Figure size 432x288 with 1 Axes>"
            ]
          },
          "metadata": {
            "tags": []
          }
        }
      ]
    }
  ]
}